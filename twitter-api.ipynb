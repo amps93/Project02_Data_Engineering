{
 "cells": [
  {
   "cell_type": "code",
   "execution_count": 2,
   "id": "3dc814bf-09f6-49a8-854c-1e9b2e1abda7",
   "metadata": {},
   "outputs": [],
   "source": [
    "import tweepy"
   ]
  },
  {
   "cell_type": "code",
   "execution_count": 3,
   "id": "f8ab3624-66c3-4cd5-ab5c-a961d2932a31",
   "metadata": {},
   "outputs": [],
   "source": [
    "#트위터의 개인 앱 계정에서 아래 4가지 사항 확인\n",
    "consumer_key = \"mEJDM16zh7lemBO8smhBX6KBC\"\n",
    "consumer_secret = \"LQKSk5SO3zRiO36VpDfLZr7q0IPDpWF7PnUS475PCEk78hxtLq\"\n",
    "access_token = \"1423543173792497664-BWo6kJNN81bSZEXP1pmNO4ceDZhR1T\"\n",
    "access_token_secret = \"ZNpJZdsTrOfgFqiEPbDnM7fFwUSGu0m34tVF8eCDhGQut\""
   ]
  },
  {
   "cell_type": "code",
   "execution_count": 5,
   "id": "c1a51b6f-13d7-46cb-9bab-1b4726cae3be",
   "metadata": {},
   "outputs": [],
   "source": [
    "#계정 승인\n",
    "auth = tweepy.OAuthHandler(consumer_key, consumer_secret)\n",
    "auth.set_access_token(access_token, access_token_secret)\n",
    "twitter_api = tweepy.API(auth)"
   ]
  },
  {
   "cell_type": "code",
   "execution_count": 10,
   "id": "409ebd39-d093-4976-a03a-c1e89f4e412d",
   "metadata": {},
   "outputs": [],
   "source": [
    "#검색 키워드 정의\n",
    "keyword = \"맛집\"\n",
    "api_result = []"
   ]
  },
  {
   "cell_type": "code",
   "execution_count": 11,
   "id": "46e2dc7b-1b6e-44f0-8e0b-2521a1bc960a",
   "metadata": {},
   "outputs": [],
   "source": [
    "#키워드 검색 및 결과\n",
    "tweet = twitter_api.search(keyword)\n",
    "for tw in tweet:\n",
    "    api_result.append(tw.text) #텍스트 결과만 담기"
   ]
  },
  {
   "cell_type": "code",
   "execution_count": 12,
   "id": "d4cdc47f-b56f-4d3a-899b-2fc777ba5074",
   "metadata": {},
   "outputs": [
    {
     "data": {
      "text/plain": [
       "['맛집 공유 https://t.co/Shc6fCaZFr',\n",
       " 'RT @ddongggulle: 님들 진블럭헬 사진조각 개맛집\\n한시간에 10개 뜸.. https://t.co/8Mc3aC8hrw',\n",
       " 'RT @SEO__BAE: 미쳤다 진짜... 미쳤어... 이 연하남을 어쩌면 좋냐... 아니 여기... 유성애가 폭발한다... 미쳤나보다... 유성애도 유성앤데 죄다 오타쿠 심금 울리는 유성애임 도랏음 백합맛집이지 않나... 헤테로도 범상치 않음...…',\n",
       " 'RT @gangsangGoodman: 최악공 최악수 이런거좀투표하지마\\n나 상처받아\\n볼때마다 어우맛집이네하고 인용들어가면\\n다욕빠께엄슴',\n",
       " '처연미인도 맛집이었죠 \\n봄냥 처연미인................. \\n........... 지켜주고 싶어\\n영원히',\n",
       " 'RT @boonotboos: 보컬팀 체크인에서 엘에이에 \"북창동 순두부\"한게 너무 웃겨 왜냐면 엘에이 놀러갔던 친구들이 항상 엘에이 최고 맛집으로 북창동 순두부를 말하더라고 정말 한결같이',\n",
       " '이렇게 투표로 #소정이도먹어보션 이 더 많이 뽑혔네요!!! 투표해주신 분들 다 너무 감사드리구🥺 소정이한테 맛집 추천해주고 싶은 곳 있으면 이 해시태그 많이 써주세요 .｡o♡ https://t.co/RC6cjggTMi',\n",
       " '@Dodam_bb0819 티에스 뜬끔없는 포카맛집행..ㄱㅋㅋ본인들도 몰랐던 재능',\n",
       " '이게 바로 쌈맛집 https://t.co/UfLPKgp0Br',\n",
       " '남양애인대행\\n남양휴게소\\n남양섹파\\n남양콜걸\\n남양노래방\\n남양출장\\n남양여행\\n남양훈녀\\n남양횟집\\n남양오피걸\\n남양맛집\\n동두천출장마사지동두천페이만남\\n남양호텔\\n동두천콜걸샵\\n남양룸싸룽\\n동두천출장샵\\npolyion406 https://t.co/GuLDXLR87b',\n",
       " '@mori_ctz 허벅지 맛집 🤤',\n",
       " 'ㅇㅁㅇ..!\\n캐해..맛집..? https://t.co/P1jFTOp59p https://t.co/SY2XYjtuxh',\n",
       " 'RT @whynewlevel: 아 이제 연남동 검색하면 민규 반 맛집 반임\\n참 맛있겠어요..~',\n",
       " 'RT @G4_Whyrano: 급한일끝나면 커미션도 열고 개인공부도 하고 커뮤도 뛰고 케이팝도 하고 책도 읽고 전공공부도 하고 불우이웃도 돕고 맛집여행도 다니고 해외연수도 가고 맘찍어주는분이 계연도 해주고 로또 대박 치고 마라톤 뛰고 철인3종경기에도…',\n",
       " 'RT @boonotboos: 보컬팀 체크인에서 엘에이에 \"북창동 순두부\"한게 너무 웃겨 왜냐면 엘에이 놀러갔던 친구들이 항상 엘에이 최고 맛집으로 북창동 순두부를 말하더라고 정말 한결같이']"
      ]
     },
     "execution_count": 12,
     "metadata": {},
     "output_type": "execute_result"
    }
   ],
   "source": [
    "api_result"
   ]
  },
  {
   "cell_type": "code",
   "execution_count": 22,
   "id": "194c503c-95eb-4d7a-850a-5af251d0b12c",
   "metadata": {},
   "outputs": [
    {
     "name": "stdout",
     "output_type": "stream",
     "text": [
      "0 맛집 공유 https://t.co/Shc6fCaZFr\n",
      "1 RT @ddongggulle: 님들 진블럭헬 사진조각 개맛집\n",
      "한시간에 10개 뜸.. https://t.co/8Mc3aC8hrw\n",
      "2 RT @SEO__BAE: 미쳤다 진짜... 미쳤어... 이 연하남을 어쩌면 좋냐... 아니 여기... 유성애가 폭발한다... 미쳤나보다... 유성애도 유성앤데 죄다 오타쿠 심금 울리는 유성애임 도랏음 백합맛집이지 않나... 헤테로도 범상치 않음...…\n",
      "3 RT @gangsangGoodman: 최악공 최악수 이런거좀투표하지마\n",
      "나 상처받아\n",
      "볼때마다 어우맛집이네하고 인용들어가면\n",
      "다욕빠께엄슴\n",
      "4 처연미인도 맛집이었죠 \n",
      "봄냥 처연미인................. \n",
      "........... 지켜주고 싶어\n",
      "영원히\n",
      "5 RT @boonotboos: 보컬팀 체크인에서 엘에이에 \"북창동 순두부\"한게 너무 웃겨 왜냐면 엘에이 놀러갔던 친구들이 항상 엘에이 최고 맛집으로 북창동 순두부를 말하더라고 정말 한결같이\n",
      "6 이렇게 투표로 #소정이도먹어보션 이 더 많이 뽑혔네요!!! 투표해주신 분들 다 너무 감사드리구🥺 소정이한테 맛집 추천해주고 싶은 곳 있으면 이 해시태그 많이 써주세요 .｡o♡ https://t.co/RC6cjggTMi\n",
      "7 @Dodam_bb0819 티에스 뜬끔없는 포카맛집행..ㄱㅋㅋ본인들도 몰랐던 재능\n",
      "8 이게 바로 쌈맛집 https://t.co/UfLPKgp0Br\n",
      "9 남양애인대행\n",
      "남양휴게소\n",
      "남양섹파\n",
      "남양콜걸\n",
      "남양노래방\n",
      "남양출장\n",
      "남양여행\n",
      "남양훈녀\n",
      "남양횟집\n",
      "남양오피걸\n",
      "남양맛집\n",
      "동두천출장마사지동두천페이만남\n",
      "남양호텔\n",
      "동두천콜걸샵\n",
      "남양룸싸룽\n",
      "동두천출장샵\n",
      "polyion406 https://t.co/GuLDXLR87b\n",
      "10 @mori_ctz 허벅지 맛집 🤤\n",
      "11 ㅇㅁㅇ..!\n",
      "캐해..맛집..? https://t.co/P1jFTOp59p https://t.co/SY2XYjtuxh\n",
      "12 RT @whynewlevel: 아 이제 연남동 검색하면 민규 반 맛집 반임\n",
      "참 맛있겠어요..~\n",
      "13 RT @G4_Whyrano: 급한일끝나면 커미션도 열고 개인공부도 하고 커뮤도 뛰고 케이팝도 하고 책도 읽고 전공공부도 하고 불우이웃도 돕고 맛집여행도 다니고 해외연수도 가고 맘찍어주는분이 계연도 해주고 로또 대박 치고 마라톤 뛰고 철인3종경기에도…\n",
      "14 RT @boonotboos: 보컬팀 체크인에서 엘에이에 \"북창동 순두부\"한게 너무 웃겨 왜냐면 엘에이 놀러갔던 친구들이 항상 엘에이 최고 맛집으로 북창동 순두부를 말하더라고 정말 한결같이\n"
     ]
    }
   ],
   "source": [
    "for i,j in enumerate(range(len(tweet))):\n",
    "    print(i, tweet[j].text)"
   ]
  },
  {
   "cell_type": "code",
   "execution_count": 19,
   "id": "7f15e993-7b41-451e-905e-28daaea2cc0f",
   "metadata": {},
   "outputs": [
    {
     "data": {
      "text/plain": [
       "15"
      ]
     },
     "execution_count": 19,
     "metadata": {},
     "output_type": "execute_result"
    }
   ],
   "source": [
    "len(tweet)"
   ]
  },
  {
   "cell_type": "code",
   "execution_count": null,
   "id": "9f4e3674-a05f-42cb-8211-13ed98878e7f",
   "metadata": {},
   "outputs": [],
   "source": []
  }
 ],
 "metadata": {
  "kernelspec": {
   "display_name": "Python Multi",
   "language": "python",
   "name": "multi"
  },
  "language_info": {
   "codemirror_mode": {
    "name": "ipython",
    "version": 3
   },
   "file_extension": ".py",
   "mimetype": "text/x-python",
   "name": "python",
   "nbconvert_exporter": "python",
   "pygments_lexer": "ipython3",
   "version": "3.7.6"
  }
 },
 "nbformat": 4,
 "nbformat_minor": 5
}
