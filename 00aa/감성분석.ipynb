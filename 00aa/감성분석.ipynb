{
 "cells": [
  {
   "cell_type": "code",
   "execution_count": 1,
   "id": "e234ad8e-e33f-4928-b47f-c1f6ce81ae1e",
   "metadata": {},
   "outputs": [],
   "source": [
    "import pandas as pd\n",
    "import numpy as np\n",
    "%matplotlib inline\n",
    "import matplotlib.pyplot as plt\n",
    "import re\n",
    "import urllib.request\n",
    "from konlpy.tag import Okt\n",
    "from tensorflow.keras.preprocessing.text import Tokenizer\n",
    "from tensorflow.keras.preprocessing.sequence import pad_sequences\n",
    "from sklearn.model_selection import train_test_split"
   ]
  },
  {
   "cell_type": "code",
   "execution_count": 2,
   "id": "c9232ad7-5e43-4827-b763-91a64fcc48b9",
   "metadata": {},
   "outputs": [
    {
     "name": "stdout",
     "output_type": "stream",
     "text": [
      "전체 리뷰 개수 : 316352\n"
     ]
    }
   ],
   "source": [
    "total_data = pd.read_csv('REVIEW.csv',)\n",
    "print('전체 리뷰 개수 :',len(total_data)) # 전체 리뷰 개수 출력"
   ]
  },
  {
   "cell_type": "code",
   "execution_count": 3,
   "id": "cf587091-0dce-4750-bad4-eb51c0073055",
   "metadata": {},
   "outputs": [],
   "source": [
    "total_data = total_data.drop('Test', axis=1)"
   ]
  },
  {
   "cell_type": "code",
   "execution_count": 4,
   "id": "49dd1422-014c-4259-82dd-39bc298f4e3b",
   "metadata": {},
   "outputs": [
    {
     "data": {
      "text/html": [
       "<div>\n",
       "<style scoped>\n",
       "    .dataframe tbody tr th:only-of-type {\n",
       "        vertical-align: middle;\n",
       "    }\n",
       "\n",
       "    .dataframe tbody tr th {\n",
       "        vertical-align: top;\n",
       "    }\n",
       "\n",
       "    .dataframe thead th {\n",
       "        text-align: right;\n",
       "    }\n",
       "</style>\n",
       "<table border=\"1\" class=\"dataframe\">\n",
       "  <thead>\n",
       "    <tr style=\"text-align: right;\">\n",
       "      <th></th>\n",
       "      <th>Review</th>\n",
       "      <th>Review Code</th>\n",
       "      <th>Score</th>\n",
       "      <th>Store Code (Review)</th>\n",
       "      <th>Upload Date</th>\n",
       "      <th>User Id</th>\n",
       "    </tr>\n",
       "  </thead>\n",
       "  <tbody>\n",
       "    <tr>\n",
       "      <th>0</th>\n",
       "      <td>가지마 이거봤으면 가지마</td>\n",
       "      <td>DB000001</td>\n",
       "      <td>1.0</td>\n",
       "      <td>STORE_DB00001</td>\n",
       "      <td>2021-07-27</td>\n",
       "      <td>16d9tp6</td>\n",
       "    </tr>\n",
       "    <tr>\n",
       "      <th>1</th>\n",
       "      <td>고기 올려놓고 손님한테 구우라고 하고 화장실감 공기밥 달라고 세번 얘기해야 가져다줌...</td>\n",
       "      <td>DB000002</td>\n",
       "      <td>1.0</td>\n",
       "      <td>STORE_DB00001</td>\n",
       "      <td>2021-07-25</td>\n",
       "      <td>unrrni</td>\n",
       "    </tr>\n",
       "    <tr>\n",
       "      <th>2</th>\n",
       "      <td>구워주는 고기집에 고기를 올려놓고 화장실 가고.. 손님한테 구우라는 건 뭔가요? 그...</td>\n",
       "      <td>DB000003</td>\n",
       "      <td>1.0</td>\n",
       "      <td>STORE_DB00001</td>\n",
       "      <td>2021-07-25</td>\n",
       "      <td>qr530u</td>\n",
       "    </tr>\n",
       "    <tr>\n",
       "      <th>3</th>\n",
       "      <td>이동네서는 대형음식점 갈데가 별로 없으니, 배짱식으로 장사하는 곳.  음식 중상, ...</td>\n",
       "      <td>DB000004</td>\n",
       "      <td>2.0</td>\n",
       "      <td>STORE_DB00001</td>\n",
       "      <td>2021-07-17</td>\n",
       "      <td>vel3rk</td>\n",
       "    </tr>\n",
       "    <tr>\n",
       "      <th>4</th>\n",
       "      <td>손님말 안듣는 직원들이 근무하는곳이네..</td>\n",
       "      <td>DB000005</td>\n",
       "      <td>1.0</td>\n",
       "      <td>STORE_DB00001</td>\n",
       "      <td>2021-07-17</td>\n",
       "      <td>167lsjl</td>\n",
       "    </tr>\n",
       "  </tbody>\n",
       "</table>\n",
       "</div>"
      ],
      "text/plain": [
       "                                              Review Review Code  Score  \\\n",
       "0                                      가지마 이거봤으면 가지마    DB000001    1.0   \n",
       "1  고기 올려놓고 손님한테 구우라고 하고 화장실감 공기밥 달라고 세번 얘기해야 가져다줌...    DB000002    1.0   \n",
       "2  구워주는 고기집에 고기를 올려놓고 화장실 가고.. 손님한테 구우라는 건 뭔가요? 그...    DB000003    1.0   \n",
       "3  이동네서는 대형음식점 갈데가 별로 없으니, 배짱식으로 장사하는 곳.  음식 중상, ...    DB000004    2.0   \n",
       "4                             손님말 안듣는 직원들이 근무하는곳이네..    DB000005    1.0   \n",
       "\n",
       "  Store Code (Review) Upload Date  User Id  \n",
       "0       STORE_DB00001  2021-07-27  16d9tp6  \n",
       "1       STORE_DB00001  2021-07-25   unrrni  \n",
       "2       STORE_DB00001  2021-07-25   qr530u  \n",
       "3       STORE_DB00001  2021-07-17   vel3rk  \n",
       "4       STORE_DB00001  2021-07-17  167lsjl  "
      ]
     },
     "execution_count": 4,
     "metadata": {},
     "output_type": "execute_result"
    }
   ],
   "source": [
    "total_data.head()"
   ]
  },
  {
   "cell_type": "markdown",
   "id": "93a4c412-4338-4436-b0ba-457b16a6e42a",
   "metadata": {},
   "source": [
    "### 평점이 4, 5인 리뷰에는 레이블 1을, 평점이 1, 2인 리뷰에는 레이블 0을 부여. 부여된 레이블은 새로 생성한 label이라는 열에 저장"
   ]
  },
  {
   "cell_type": "code",
   "execution_count": 5,
   "id": "5e364f19-73d0-4ff4-b7eb-f27dffd6b7b5",
   "metadata": {},
   "outputs": [
    {
     "data": {
      "text/html": [
       "<div>\n",
       "<style scoped>\n",
       "    .dataframe tbody tr th:only-of-type {\n",
       "        vertical-align: middle;\n",
       "    }\n",
       "\n",
       "    .dataframe tbody tr th {\n",
       "        vertical-align: top;\n",
       "    }\n",
       "\n",
       "    .dataframe thead th {\n",
       "        text-align: right;\n",
       "    }\n",
       "</style>\n",
       "<table border=\"1\" class=\"dataframe\">\n",
       "  <thead>\n",
       "    <tr style=\"text-align: right;\">\n",
       "      <th></th>\n",
       "      <th>Review</th>\n",
       "      <th>Review Code</th>\n",
       "      <th>Score</th>\n",
       "      <th>Store Code (Review)</th>\n",
       "      <th>Upload Date</th>\n",
       "      <th>User Id</th>\n",
       "      <th>label</th>\n",
       "    </tr>\n",
       "  </thead>\n",
       "  <tbody>\n",
       "    <tr>\n",
       "      <th>0</th>\n",
       "      <td>가지마 이거봤으면 가지마</td>\n",
       "      <td>DB000001</td>\n",
       "      <td>1.0</td>\n",
       "      <td>STORE_DB00001</td>\n",
       "      <td>2021-07-27</td>\n",
       "      <td>16d9tp6</td>\n",
       "      <td>0</td>\n",
       "    </tr>\n",
       "    <tr>\n",
       "      <th>1</th>\n",
       "      <td>고기 올려놓고 손님한테 구우라고 하고 화장실감 공기밥 달라고 세번 얘기해야 가져다줌...</td>\n",
       "      <td>DB000002</td>\n",
       "      <td>1.0</td>\n",
       "      <td>STORE_DB00001</td>\n",
       "      <td>2021-07-25</td>\n",
       "      <td>unrrni</td>\n",
       "      <td>0</td>\n",
       "    </tr>\n",
       "    <tr>\n",
       "      <th>2</th>\n",
       "      <td>구워주는 고기집에 고기를 올려놓고 화장실 가고.. 손님한테 구우라는 건 뭔가요? 그...</td>\n",
       "      <td>DB000003</td>\n",
       "      <td>1.0</td>\n",
       "      <td>STORE_DB00001</td>\n",
       "      <td>2021-07-25</td>\n",
       "      <td>qr530u</td>\n",
       "      <td>0</td>\n",
       "    </tr>\n",
       "    <tr>\n",
       "      <th>3</th>\n",
       "      <td>이동네서는 대형음식점 갈데가 별로 없으니, 배짱식으로 장사하는 곳.  음식 중상, ...</td>\n",
       "      <td>DB000004</td>\n",
       "      <td>2.0</td>\n",
       "      <td>STORE_DB00001</td>\n",
       "      <td>2021-07-17</td>\n",
       "      <td>vel3rk</td>\n",
       "      <td>0</td>\n",
       "    </tr>\n",
       "    <tr>\n",
       "      <th>4</th>\n",
       "      <td>손님말 안듣는 직원들이 근무하는곳이네..</td>\n",
       "      <td>DB000005</td>\n",
       "      <td>1.0</td>\n",
       "      <td>STORE_DB00001</td>\n",
       "      <td>2021-07-17</td>\n",
       "      <td>167lsjl</td>\n",
       "      <td>0</td>\n",
       "    </tr>\n",
       "  </tbody>\n",
       "</table>\n",
       "</div>"
      ],
      "text/plain": [
       "                                              Review Review Code  Score  \\\n",
       "0                                      가지마 이거봤으면 가지마    DB000001    1.0   \n",
       "1  고기 올려놓고 손님한테 구우라고 하고 화장실감 공기밥 달라고 세번 얘기해야 가져다줌...    DB000002    1.0   \n",
       "2  구워주는 고기집에 고기를 올려놓고 화장실 가고.. 손님한테 구우라는 건 뭔가요? 그...    DB000003    1.0   \n",
       "3  이동네서는 대형음식점 갈데가 별로 없으니, 배짱식으로 장사하는 곳.  음식 중상, ...    DB000004    2.0   \n",
       "4                             손님말 안듣는 직원들이 근무하는곳이네..    DB000005    1.0   \n",
       "\n",
       "  Store Code (Review) Upload Date  User Id  label  \n",
       "0       STORE_DB00001  2021-07-27  16d9tp6      0  \n",
       "1       STORE_DB00001  2021-07-25   unrrni      0  \n",
       "2       STORE_DB00001  2021-07-25   qr530u      0  \n",
       "3       STORE_DB00001  2021-07-17   vel3rk      0  \n",
       "4       STORE_DB00001  2021-07-17  167lsjl      0  "
      ]
     },
     "execution_count": 5,
     "metadata": {},
     "output_type": "execute_result"
    }
   ],
   "source": [
    "total_data['label'] = np.select([total_data.Score > 3], [1], default=0)\n",
    "total_data[:5]"
   ]
  },
  {
   "cell_type": "code",
   "execution_count": 6,
   "id": "81aa6c85-8578-4348-8084-a956f8dab7ba",
   "metadata": {},
   "outputs": [
    {
     "data": {
      "text/plain": [
       "(5, 239626, 2)"
      ]
     },
     "execution_count": 6,
     "metadata": {},
     "output_type": "execute_result"
    }
   ],
   "source": [
    "total_data['Score'].nunique(), total_data['Review'].nunique(), total_data['label'].nunique()"
   ]
  },
  {
   "cell_type": "code",
   "execution_count": 7,
   "id": "2ed2dfb1-d481-4c1d-9430-2caed8863533",
   "metadata": {},
   "outputs": [
    {
     "data": {
      "text/plain": [
       "Review                 61296\n",
       "Review Code                0\n",
       "Score                  32851\n",
       "Store Code (Review)        0\n",
       "Upload Date                0\n",
       "User Id                91004\n",
       "label                      0\n",
       "dtype: int64"
      ]
     },
     "execution_count": 7,
     "metadata": {},
     "output_type": "execute_result"
    }
   ],
   "source": [
    "#결측값 확인\n",
    "total_data.isna().sum()"
   ]
  },
  {
   "cell_type": "code",
   "execution_count": 8,
   "id": "1c5b25b0-c6cb-4e9f-a060-6e64c60f5a19",
   "metadata": {},
   "outputs": [],
   "source": [
    "#결측치 제거\n",
    "total_data = total_data.dropna(axis=0)"
   ]
  },
  {
   "cell_type": "code",
   "execution_count": 9,
   "id": "af908c6a-2325-4921-9952-86f37af99880",
   "metadata": {},
   "outputs": [
    {
     "data": {
      "text/plain": [
       "Review                 0\n",
       "Review Code            0\n",
       "Score                  0\n",
       "Store Code (Review)    0\n",
       "Upload Date            0\n",
       "User Id                0\n",
       "label                  0\n",
       "dtype: int64"
      ]
     },
     "execution_count": 9,
     "metadata": {},
     "output_type": "execute_result"
    }
   ],
   "source": [
    "#결측값 재확인\n",
    "total_data.isna().sum()"
   ]
  },
  {
   "cell_type": "code",
   "execution_count": 10,
   "id": "01cbeee3-77c0-41cd-a1b5-135604c877a2",
   "metadata": {},
   "outputs": [
    {
     "name": "stdout",
     "output_type": "stream",
     "text": [
      "총 샘플의 수 : 178105\n"
     ]
    }
   ],
   "source": [
    "# review 열에서 중복인 내용이 있다면 중복 제거\n",
    "total_data.drop_duplicates(subset=['Review'], inplace=True) # reviews 열에서 중복인 내용이 있다면 중복 제거\n",
    "print('총 샘플의 수 :',len(total_data))"
   ]
  },
  {
   "cell_type": "code",
   "execution_count": 11,
   "id": "a3925476-6679-45d4-a95b-f6d122e1a323",
   "metadata": {},
   "outputs": [
    {
     "name": "stdout",
     "output_type": "stream",
     "text": [
      "훈련용 리뷰의 개수 : 133578\n",
      "테스트용 리뷰의 개수 : 44527\n"
     ]
    }
   ],
   "source": [
    "train_data, test_data = train_test_split(total_data, test_size = 0.25, random_state = 42)\n",
    "print('훈련용 리뷰의 개수 :', len(train_data))\n",
    "print('테스트용 리뷰의 개수 :', len(test_data))"
   ]
  },
  {
   "cell_type": "code",
   "execution_count": 12,
   "id": "fb3f6820-3071-4438-bd5a-1910700e98d9",
   "metadata": {},
   "outputs": [
    {
     "name": "stdout",
     "output_type": "stream",
     "text": [
      "   label  count\n",
      "0      0  52365\n",
      "1      1  81213\n"
     ]
    },
    {
     "data": {
      "image/png": "[encoded data removed]",
      "text/plain": [
       "<Figure size 432x288 with 1 Axes>"
      ]
     },
     "metadata": {
      "needs_background": "light"
     },
     "output_type": "display_data"
    }
   ],
   "source": [
    "#자료가 불균형함\n",
    "train_data['label'].value_counts().plot(kind = 'bar')\n",
    "print(train_data.groupby('label').size().reset_index(name = 'count'))"
   ]
  },
  {
   "cell_type": "code",
   "execution_count": 14,
   "id": "7ee51880-7819-43f2-bef3-877334abd527",
   "metadata": {},
   "outputs": [
    {
     "name": "stderr",
     "output_type": "stream",
     "text": [
      "C:\\Users\\Amps\\anaconda3\\envs\\multi\\lib\\site-packages\\ipykernel_launcher.py:2: FutureWarning: The default value of regex will change from True to False in a future version.\n",
      "  \n",
      "C:\\Users\\Amps\\anaconda3\\envs\\multi\\lib\\site-packages\\ipykernel_launcher.py:2: SettingWithCopyWarning: \n",
      "A value is trying to be set on a copy of a slice from a DataFrame.\n",
      "Try using .loc[row_indexer,col_indexer] = value instead\n",
      "\n",
      "See the caveats in the documentation: https://pandas.pydata.org/pandas-docs/stable/user_guide/indexing.html#returning-a-view-versus-a-copy\n",
      "  \n"
     ]
    },
    {
     "name": "stdout",
     "output_type": "stream",
     "text": [
      "Review                 0\n",
      "Review Code            0\n",
      "Score                  0\n",
      "Store Code (Review)    0\n",
      "Upload Date            0\n",
      "User Id                0\n",
      "label                  0\n",
      "dtype: int64\n"
     ]
    }
   ],
   "source": [
    "# 한글과 공백을 제외하고 모두 제거\n",
    "train_data['Review'] = train_data['Review'].str.replace(\"[^ㄱ-ㅎㅏ-ㅣ가-힣 ]\",\"\")\n",
    "train_data['Review'].replace('', np.nan, inplace=True)\n",
    "train_data = train_data.dropna(how='any') # Null 값 제거\n",
    "print(train_data.isnull().sum())"
   ]
  },
  {
   "cell_type": "code",
   "execution_count": 15,
   "id": "c2893edb-6c87-442d-a0ff-3ef86e1550a5",
   "metadata": {},
   "outputs": [
    {
     "name": "stdout",
     "output_type": "stream",
     "text": [
      "전처리 후 테스트용 샘플의 개수 : 44425\n"
     ]
    },
    {
     "name": "stderr",
     "output_type": "stream",
     "text": [
      "C:\\Users\\Amps\\anaconda3\\envs\\multi\\lib\\site-packages\\ipykernel_launcher.py:2: SettingWithCopyWarning: \n",
      "A value is trying to be set on a copy of a slice from a DataFrame\n",
      "\n",
      "See the caveats in the documentation: https://pandas.pydata.org/pandas-docs/stable/user_guide/indexing.html#returning-a-view-versus-a-copy\n",
      "  \n",
      "C:\\Users\\Amps\\anaconda3\\envs\\multi\\lib\\site-packages\\ipykernel_launcher.py:3: FutureWarning: The default value of regex will change from True to False in a future version.\n",
      "  This is separate from the ipykernel package so we can avoid doing imports until\n",
      "C:\\Users\\Amps\\anaconda3\\envs\\multi\\lib\\site-packages\\ipykernel_launcher.py:3: SettingWithCopyWarning: \n",
      "A value is trying to be set on a copy of a slice from a DataFrame.\n",
      "Try using .loc[row_indexer,col_indexer] = value instead\n",
      "\n",
      "See the caveats in the documentation: https://pandas.pydata.org/pandas-docs/stable/user_guide/indexing.html#returning-a-view-versus-a-copy\n",
      "  This is separate from the ipykernel package so we can avoid doing imports until\n",
      "C:\\Users\\Amps\\anaconda3\\envs\\multi\\lib\\site-packages\\pandas\\core\\series.py:4515: SettingWithCopyWarning: \n",
      "A value is trying to be set on a copy of a slice from a DataFrame\n",
      "\n",
      "See the caveats in the documentation: https://pandas.pydata.org/pandas-docs/stable/user_guide/indexing.html#returning-a-view-versus-a-copy\n",
      "  method=method,\n"
     ]
    }
   ],
   "source": [
    "#테스트 데이터에도 동일한 과정\n",
    "test_data.drop_duplicates(subset = ['Review'], inplace=True) # 중복 제거\n",
    "test_data['Review'] = test_data['Review'].str.replace(\"[^ㄱ-ㅎㅏ-ㅣ가-힣 ]\",\"\") # 정규 표현식 수행\n",
    "test_data['Review'].replace('', np.nan, inplace=True) # 공백은 Null 값으로 변경\n",
    "test_data = test_data.dropna(how='any') # Null 값 제거\n",
    "print('전처리 후 테스트용 샘플의 개수 :',len(test_data))"
   ]
  },
  {
   "cell_type": "code",
   "execution_count": null,
   "id": "a4ce4785-b4f8-42f0-a52d-3640c873264c",
   "metadata": {},
   "outputs": [],
   "source": []
  },
  {
   "cell_type": "code",
   "execution_count": 16,
   "id": "6a9090f5-7e14-4a6d-82e7-5089f07239b1",
   "metadata": {},
   "outputs": [],
   "source": [
    "# 불용어 처리\n",
    "stopwords = ['의','가','이','은','들','는','좀','잘','걍','과','도','를','으로','자','에','와','한','하다']"
   ]
  },
  {
   "cell_type": "code",
   "execution_count": 17,
   "id": "662f3fdd-2d6f-4e70-801f-eb9c7164c193",
   "metadata": {},
   "outputs": [
    {
     "data": {
      "text/plain": [
       "['오다', '이렇다', '것', '도', '영화', '라고', '차라리', '뮤직비디오', '를', '만들다', '게', '나다', '뻔']"
      ]
     },
     "execution_count": 17,
     "metadata": {},
     "output_type": "execute_result"
    }
   ],
   "source": [
    "okt = Okt()\n",
    "okt.morphs('와 이런 것도 영화라고 차라리 뮤직비디오를 만드는 게 나을 뻔', stem = True)"
   ]
  },
  {
   "cell_type": "code",
   "execution_count": 19,
   "id": "8b76ae73-48c9-42c3-892b-09ce8662e727",
   "metadata": {},
   "outputs": [
    {
     "ename": "KeyboardInterrupt",
     "evalue": "",
     "output_type": "error",
     "traceback": [
      "\u001b[1;31m---------------------------------------------------------------------------\u001b[0m",
      "\u001b[1;31mKeyboardInterrupt\u001b[0m                         Traceback (most recent call last)",
      "\u001b[1;32m<ipython-input-19-76c9cceef987>\u001b[0m in \u001b[0;36m<module>\u001b[1;34m\u001b[0m\n\u001b[0;32m      1\u001b[0m \u001b[0mX_train\u001b[0m \u001b[1;33m=\u001b[0m \u001b[1;33m[\u001b[0m\u001b[1;33m]\u001b[0m\u001b[1;33m\u001b[0m\u001b[1;33m\u001b[0m\u001b[0m\n\u001b[0;32m      2\u001b[0m \u001b[1;32mfor\u001b[0m \u001b[0msentence\u001b[0m \u001b[1;32min\u001b[0m \u001b[0mtrain_data\u001b[0m\u001b[1;33m[\u001b[0m\u001b[1;34m'Review'\u001b[0m\u001b[1;33m]\u001b[0m\u001b[1;33m:\u001b[0m\u001b[1;33m\u001b[0m\u001b[1;33m\u001b[0m\u001b[0m\n\u001b[1;32m----> 3\u001b[1;33m     \u001b[0mtemp_X\u001b[0m \u001b[1;33m=\u001b[0m \u001b[0mokt\u001b[0m\u001b[1;33m.\u001b[0m\u001b[0mmorphs\u001b[0m\u001b[1;33m(\u001b[0m\u001b[0msentence\u001b[0m\u001b[1;33m,\u001b[0m \u001b[0mstem\u001b[0m\u001b[1;33m=\u001b[0m\u001b[1;32mTrue\u001b[0m\u001b[1;33m)\u001b[0m \u001b[1;31m# 토큰화\u001b[0m\u001b[1;33m\u001b[0m\u001b[1;33m\u001b[0m\u001b[0m\n\u001b[0m\u001b[0;32m      4\u001b[0m     \u001b[0mtemp_X\u001b[0m \u001b[1;33m=\u001b[0m \u001b[1;33m[\u001b[0m\u001b[0mword\u001b[0m \u001b[1;32mfor\u001b[0m \u001b[0mword\u001b[0m \u001b[1;32min\u001b[0m \u001b[0mtemp_X\u001b[0m \u001b[1;32mif\u001b[0m \u001b[1;32mnot\u001b[0m \u001b[0mword\u001b[0m \u001b[1;32min\u001b[0m \u001b[0mstopwords\u001b[0m\u001b[1;33m]\u001b[0m \u001b[1;31m# 불용어 제거\u001b[0m\u001b[1;33m\u001b[0m\u001b[1;33m\u001b[0m\u001b[0m\n\u001b[0;32m      5\u001b[0m     \u001b[0mX_train\u001b[0m\u001b[1;33m.\u001b[0m\u001b[0mappend\u001b[0m\u001b[1;33m(\u001b[0m\u001b[0mtemp_X\u001b[0m\u001b[1;33m)\u001b[0m\u001b[1;33m\u001b[0m\u001b[1;33m\u001b[0m\u001b[0m\n",
      "\u001b[1;32m~\\anaconda3\\envs\\multi\\lib\\site-packages\\konlpy\\tag\\_okt.py\u001b[0m in \u001b[0;36mmorphs\u001b[1;34m(self, phrase, norm, stem)\u001b[0m\n\u001b[0;32m     76\u001b[0m         \u001b[1;34m\"\"\"Parse phrase to morphemes.\"\"\"\u001b[0m\u001b[1;33m\u001b[0m\u001b[1;33m\u001b[0m\u001b[0m\n\u001b[0;32m     77\u001b[0m \u001b[1;33m\u001b[0m\u001b[0m\n\u001b[1;32m---> 78\u001b[1;33m         \u001b[1;32mreturn\u001b[0m \u001b[1;33m[\u001b[0m\u001b[0ms\u001b[0m \u001b[1;32mfor\u001b[0m \u001b[0ms\u001b[0m\u001b[1;33m,\u001b[0m \u001b[0mt\u001b[0m \u001b[1;32min\u001b[0m \u001b[0mself\u001b[0m\u001b[1;33m.\u001b[0m\u001b[0mpos\u001b[0m\u001b[1;33m(\u001b[0m\u001b[0mphrase\u001b[0m\u001b[1;33m,\u001b[0m \u001b[0mnorm\u001b[0m\u001b[1;33m=\u001b[0m\u001b[0mnorm\u001b[0m\u001b[1;33m,\u001b[0m \u001b[0mstem\u001b[0m\u001b[1;33m=\u001b[0m\u001b[0mstem\u001b[0m\u001b[1;33m)\u001b[0m\u001b[1;33m]\u001b[0m\u001b[1;33m\u001b[0m\u001b[1;33m\u001b[0m\u001b[0m\n\u001b[0m\u001b[0;32m     79\u001b[0m \u001b[1;33m\u001b[0m\u001b[0m\n\u001b[0;32m     80\u001b[0m     \u001b[1;32mdef\u001b[0m \u001b[0mphrases\u001b[0m\u001b[1;33m(\u001b[0m\u001b[0mself\u001b[0m\u001b[1;33m,\u001b[0m \u001b[0mphrase\u001b[0m\u001b[1;33m)\u001b[0m\u001b[1;33m:\u001b[0m\u001b[1;33m\u001b[0m\u001b[1;33m\u001b[0m\u001b[0m\n",
      "\u001b[1;32m~\\anaconda3\\envs\\multi\\lib\\site-packages\\konlpy\\tag\\_okt.py\u001b[0m in \u001b[0;36mpos\u001b[1;34m(self, phrase, norm, stem, join)\u001b[0m\n\u001b[0;32m     61\u001b[0m                     \u001b[0mphrase\u001b[0m\u001b[1;33m,\u001b[0m\u001b[1;33m\u001b[0m\u001b[1;33m\u001b[0m\u001b[0m\n\u001b[0;32m     62\u001b[0m                     \u001b[0mjpype\u001b[0m\u001b[1;33m.\u001b[0m\u001b[0mjava\u001b[0m\u001b[1;33m.\u001b[0m\u001b[0mlang\u001b[0m\u001b[1;33m.\u001b[0m\u001b[0mBoolean\u001b[0m\u001b[1;33m(\u001b[0m\u001b[0mnorm\u001b[0m\u001b[1;33m)\u001b[0m\u001b[1;33m,\u001b[0m\u001b[1;33m\u001b[0m\u001b[1;33m\u001b[0m\u001b[0m\n\u001b[1;32m---> 63\u001b[1;33m                     jpype.java.lang.Boolean(stem)).toArray()\n\u001b[0m\u001b[0;32m     64\u001b[0m         \u001b[1;32mif\u001b[0m \u001b[0mjoin\u001b[0m\u001b[1;33m:\u001b[0m\u001b[1;33m\u001b[0m\u001b[1;33m\u001b[0m\u001b[0m\n\u001b[0;32m     65\u001b[0m             \u001b[1;32mreturn\u001b[0m \u001b[1;33m[\u001b[0m\u001b[0mt\u001b[0m \u001b[1;32mfor\u001b[0m \u001b[0mt\u001b[0m \u001b[1;32min\u001b[0m \u001b[0mtokens\u001b[0m\u001b[1;33m]\u001b[0m\u001b[1;33m\u001b[0m\u001b[1;33m\u001b[0m\u001b[0m\n",
      "\u001b[1;31mKeyboardInterrupt\u001b[0m: "
     ]
    }
   ],
   "source": [
    "X_train = []\n",
    "for sentence in train_data['Review']:\n",
    "    temp_X = okt.morphs(sentence, stem=True) # 토큰화\n",
    "    temp_X = [word for word in temp_X if not word in stopwords] # 불용어 제거\n",
    "    X_train.append(temp_X)"
   ]
  },
  {
   "cell_type": "code",
   "execution_count": null,
   "id": "755e003c-f74b-44a4-97ed-6d910ec9a70c",
   "metadata": {},
   "outputs": [],
   "source": []
  }
 ],
 "metadata": {
  "kernelspec": {
   "display_name": "Python Multi",
   "language": "python",
   "name": "multi"
  },
  "language_info": {
   "codemirror_mode": {
    "name": "ipython",
    "version": 3
   },
   "file_extension": ".py",
   "mimetype": "text/x-python",
   "name": "python",
   "nbconvert_exporter": "python",
   "pygments_lexer": "ipython3",
   "version": "3.7.6"
  }
 },
 "nbformat": 4,
 "nbformat_minor": 5
}
