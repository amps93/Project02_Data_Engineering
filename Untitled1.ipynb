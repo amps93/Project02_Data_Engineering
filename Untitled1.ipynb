{
 "cells": [
  {
   "cell_type": "code",
   "execution_count": null,
   "id": "bbdf3338-094d-496a-8e48-d3e9d8c1642e",
   "metadata": {},
   "outputs": [],
   "source": [
    "import pandas as pd\n",
    "import re\n",
    "import geopy"
   ]
  },
  {
   "cell_type": "code",
   "execution_count": 37,
   "id": "9e3d1a67-2d93-4730-84c4-618af3cd293a",
   "metadata": {},
   "outputs": [
    {
     "name": "stdout",
     "output_type": "stream",
     "text": [
      "        LOCAL_CODE\n",
      "0    (지번) 창동 337-1\n",
      "1   (지번) 도봉동 470-3\n",
      "2  (지번) 쌍문동 100-35\n",
      "3   (지번) 창동 700-27\n",
      "4   (지번) 쌍문동 395-6\n"
     ]
    }
   ],
   "source": [
    "df = pd.read_csv('STORE.csv')\n",
    "\n",
    "print(df.head(5))\n",
    "\n",
    "df['LOCAL_CODE'] = df['LOCAL_CODE'].str.replace(pat='\\(지번\\)', repl=r'', regex=True)"
   ]
  },
  {
   "cell_type": "code",
   "execution_count": 40,
   "id": "009fd1a8-7636-412f-b765-b1b6920ce38e",
   "metadata": {},
   "outputs": [
    {
     "data": {
      "text/plain": [
       "LOCAL_CODE    0\n",
       "dtype: int64"
      ]
     },
     "execution_count": 40,
     "metadata": {},
     "output_type": "execute_result"
    }
   ],
   "source": [
    "df.isna().sum()"
   ]
  },
  {
   "cell_type": "code",
   "execution_count": 38,
   "id": "f6360dc9-652c-42f0-a2ff-bf8c2b9163c4",
   "metadata": {},
   "outputs": [
    {
     "name": "stdout",
     "output_type": "stream",
     "text": [
      "' 창동 337-1,37.29343,127.63346'\n",
      "' 도봉동 470-3,37.6826056,127.0425405'\n",
      "' 쌍문동 100-35,37.65347,127.02715'\n",
      "' 창동 700-27,36.636327,128.1935133'\n",
      "' 쌍문동 395-6,37.65347,127.02715'\n",
      "' 도봉1동 600-4,37.685468549999996,127.0274286535063'\n",
      "' 창동 74-25,36.636327,128.1935133'\n",
      "' 도봉동 596-23,37.6826056,127.0425405'\n",
      "' 도봉동 286-27,37.6826056,127.0425405'\n",
      "' 방학동 436-9,37.66442,127.03333'\n",
      "' 창2동 650-30,37.64166375,127.03680739868314'\n",
      "' 쌍문동 81-74,37.65347,127.02715'\n",
      "' 방학1동 680-14,37.66504505,127.04358593946017'\n",
      "' 방학동 598-1,37.66442,127.03333'\n",
      "' 창동 715-4,36.636327,128.1935133'\n",
      "' 창동 608-142,37.5358868,127.2276072'\n",
      "' 방학동 677-20,37.66442,127.03333'\n",
      "' 창동 659-16,36.636327,128.1935133'\n",
      "' 방학동 669-3,37.66442,127.03333'\n",
      "' 창동 674-29,36.636327,128.1935133'\n",
      "' 창동 635-42,36.636327,128.1935133'\n",
      "' 창동 651-5,35.20637,128.57426'\n",
      "' 도봉동 625-13,37.6826056,127.0425405'\n",
      "' 창동 700-29,36.636327,128.1935133'\n",
      "' 쌍문동 47-2,37.65347,127.02715'\n",
      "' 도봉동 343-2,37.6826056,127.0425405'\n",
      "' 창동 750,36.636327,128.1935133'\n",
      "' 도봉동 635,37.6826056,127.0425405'\n",
      "' 창동 269-4,36.636327,128.1935133'\n",
      "' 도봉동 560-19,37.6826056,127.0425405'\n",
      "' 쌍문동 103-30,37.65347,127.02715'\n",
      "' 쌍문동 395-2,37.65347,127.02715'\n",
      "' 도봉동 279-13,37.6826056,127.0425405'\n",
      "' 창동 659-1,37.29343,127.63346'\n",
      "' 도봉동 597-21,37.6826056,127.0425405'\n",
      "' 창동 26,37.5524297,126.9165021'\n",
      "' 창동 813,36.636327,128.1935133'\n",
      "' 방학동 669,37.66442,127.03333'\n",
      "' 창동 658-49,36.636327,128.1935133'\n",
      "' 방학동 716-14,37.66442,127.03333'\n",
      "' 창동 657-68,36.29051,129.01649'\n",
      "' 창동 651-5,35.20637,128.57426'\n"
     ]
    },
    {
     "ename": "AttributeError",
     "evalue": "'NoneType' object has no attribute 'latitude'",
     "output_type": "error",
     "traceback": [
      "\u001b[1;31m---------------------------------------------------------------------------\u001b[0m",
      "\u001b[1;31mAttributeError\u001b[0m                            Traceback (most recent call last)",
      "\u001b[1;32m<ipython-input-38-52ae6a785861>\u001b[0m in \u001b[0;36m<module>\u001b[1;34m\u001b[0m\n\u001b[0;32m     14\u001b[0m \u001b[1;32mfor\u001b[0m \u001b[0mi\u001b[0m \u001b[1;32min\u001b[0m  \u001b[0mdf\u001b[0m\u001b[1;33m[\u001b[0m\u001b[1;34m'LOCAL_CODE'\u001b[0m\u001b[1;33m]\u001b[0m\u001b[1;33m:\u001b[0m\u001b[1;33m\u001b[0m\u001b[1;33m\u001b[0m\u001b[0m\n\u001b[0;32m     15\u001b[0m     \u001b[0mlocation\u001b[0m \u001b[1;33m=\u001b[0m \u001b[0mapp\u001b[0m\u001b[1;33m.\u001b[0m\u001b[0mgeocode\u001b[0m\u001b[1;33m(\u001b[0m\u001b[0mi\u001b[0m\u001b[1;33m)\u001b[0m\u001b[1;33m\u001b[0m\u001b[1;33m\u001b[0m\u001b[0m\n\u001b[1;32m---> 16\u001b[1;33m     \u001b[0mtest\u001b[0m\u001b[1;33m.\u001b[0m\u001b[0mloc\u001b[0m\u001b[1;33m[\u001b[0m\u001b[0mlen\u001b[0m\u001b[1;33m(\u001b[0m\u001b[0mtest\u001b[0m\u001b[1;33m)\u001b[0m\u001b[1;33m]\u001b[0m \u001b[1;33m=\u001b[0m \u001b[1;33m[\u001b[0m\u001b[0mlocation\u001b[0m\u001b[1;33m.\u001b[0m\u001b[0mlatitude\u001b[0m\u001b[1;33m,\u001b[0m \u001b[0mlocation\u001b[0m\u001b[1;33m.\u001b[0m\u001b[0mlongitude\u001b[0m\u001b[1;33m]\u001b[0m\u001b[1;33m\u001b[0m\u001b[1;33m\u001b[0m\u001b[0m\n\u001b[0m\u001b[0;32m     17\u001b[0m     \u001b[0mloc\u001b[0m\u001b[1;33m.\u001b[0m\u001b[0mappend\u001b[0m\u001b[1;33m(\u001b[0m\u001b[0mi\u001b[0m\u001b[1;33m)\u001b[0m\u001b[1;33m\u001b[0m\u001b[1;33m\u001b[0m\u001b[0m\n\u001b[0;32m     18\u001b[0m     \u001b[0mlat\u001b[0m\u001b[1;33m.\u001b[0m\u001b[0mappend\u001b[0m\u001b[1;33m(\u001b[0m\u001b[0mlocation\u001b[0m\u001b[1;33m.\u001b[0m\u001b[0mlatitude\u001b[0m\u001b[1;33m)\u001b[0m\u001b[1;33m\u001b[0m\u001b[1;33m\u001b[0m\u001b[0m\n",
      "\u001b[1;31mAttributeError\u001b[0m: 'NoneType' object has no attribute 'latitude'"
     ]
    }
   ],
   "source": [
    "from geopy.geocoders import Nominatim\n",
    "from pprint import pprint\n",
    "\n",
    "app = Nominatim(user_agent = 'South Korea')\n",
    "\n",
    "test = pd.DataFrame(columns=['Latitude', 'Longtitude'])\n",
    "\n",
    "df2 = pd.DataFrame(columns=['LOCAL_CODE', 'lat', 'long'])\n",
    "\n",
    "loc = []\n",
    "lat = []\n",
    "long = []\n",
    "\n",
    "for i in  df['LOCAL_CODE']:\n",
    "    location = app.geocode(i)\n",
    "    test.loc[len(test)] = [location.latitude, location.longitude]\n",
    "    loc.append(i)\n",
    "    lat.append(location.latitude)\n",
    "    long.append(location.longitude)\n",
    "#     print(loc)\n",
    "#     print(lat)\n",
    "#     print(long)\n",
    "    pprint('{},{},{}'.format(i,location.latitude, location.longitude))"
   ]
  },
  {
   "cell_type": "code",
   "execution_count": 16,
   "id": "07ba03d0-36fd-4643-8a12-69881b9e2b4e",
   "metadata": {},
   "outputs": [],
   "source": [
    "df2['lat'] = 'a'"
   ]
  },
  {
   "cell_type": "code",
   "execution_count": 17,
   "id": "009e564b-b9f5-4176-ae44-1da925c07d08",
   "metadata": {},
   "outputs": [
    {
     "data": {
      "text/html": [
       "<div>\n",
       "<style scoped>\n",
       "    .dataframe tbody tr th:only-of-type {\n",
       "        vertical-align: middle;\n",
       "    }\n",
       "\n",
       "    .dataframe tbody tr th {\n",
       "        vertical-align: top;\n",
       "    }\n",
       "\n",
       "    .dataframe thead th {\n",
       "        text-align: right;\n",
       "    }\n",
       "</style>\n",
       "<table border=\"1\" class=\"dataframe\">\n",
       "  <thead>\n",
       "    <tr style=\"text-align: right;\">\n",
       "      <th></th>\n",
       "      <th>LOCAL_CODE</th>\n",
       "      <th>lat</th>\n",
       "      <th>long</th>\n",
       "    </tr>\n",
       "  </thead>\n",
       "  <tbody>\n",
       "  </tbody>\n",
       "</table>\n",
       "</div>"
      ],
      "text/plain": [
       "Empty DataFrame\n",
       "Columns: [LOCAL_CODE, lat, long]\n",
       "Index: []"
      ]
     },
     "execution_count": 17,
     "metadata": {},
     "output_type": "execute_result"
    }
   ],
   "source": [
    "df2"
   ]
  },
  {
   "cell_type": "code",
   "execution_count": null,
   "id": "f1dab131-fb68-449e-be04-38abc1089827",
   "metadata": {},
   "outputs": [],
   "source": [
    "' 창동 651-5,35.20637,128.57426'"
   ]
  }
 ],
 "metadata": {
  "kernelspec": {
   "display_name": "Python Multi",
   "language": "python",
   "name": "multi"
  },
  "language_info": {
   "codemirror_mode": {
    "name": "ipython",
    "version": 3
   },
   "file_extension": ".py",
   "mimetype": "text/x-python",
   "name": "python",
   "nbconvert_exporter": "python",
   "pygments_lexer": "ipython3",
   "version": "3.7.6"
  }
 },
 "nbformat": 4,
 "nbformat_minor": 5
}
