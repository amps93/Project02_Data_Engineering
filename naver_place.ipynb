{
 "cells": [
  {
   "cell_type": "code",
   "execution_count": 119,
   "id": "5d562202-0417-453f-b861-148d359af9ab",
   "metadata": {},
   "outputs": [
    {
     "data": {
      "text/plain": [
       "['프로필\\n소담\\n인증리뷰 4558.8.일\\n팔로우\\n구미동 최신\\n건강한 식재료로 만든 한정식이 있는 하늘선한정식 늘코스 맛있어요.\\n하늘선\\n한정식경기도 성남시 분당구 구미동\\n좋아요\\n저장',\n",
       " '비케이\\n인증리뷰 4178.8.일\\n팔로우\\n구미동 최신\\n고기 육즙 팡팡! 김치도 진짜 맛있 ㅠㅠㅠ 집근처 고깃집이라 더 사랑합니다♡\\n솜씨마을김치찌개\\n한식경기도 성남시 분당구 구미동\\n좋아요\\n저장',\n",
       " '구미동 주변 찐 리뷰어 만나봐요\\n내 위치\\n프로필\\n꿍\\n인증리뷰 113\\n팔로우\\n성남 삼평동\\n돼지맨숀\\n성남 신흥동\\n카페모레\\n성남 성남동\\n대장부\\n성남 정자동\\n정통춘천닭갈비\\n추천에서 제외\\n프로필\\n도비\\n인증리뷰 29\\n팔로우\\n성남 정자동\\n브루클린더버거조인트 분당정자점\\n성남 구미동\\n두마레 한정식\\n성남 서현동\\n평양면옥 분당점\\n성남 백현동\\n봄베이브로이 판교점\\n추천에서 제외\\n아직도고민중\\n인증리뷰 126\\n팔로우\\n성남 삼평동\\n감성타코 판교점\\n성남 판교동\\n청춘참기름방유당\\n성남 삼평동\\n슈퍼타이 2호점\\n성남 삼평동\\n차알\\n추천에서 제외\\n맑은이\\n인증리뷰 6\\n팔로우\\n성남 태평동\\n성남중앙칼국수\\n성남 정자동\\n이천가든 이마트분당점\\n성남 서현동\\n쉐이크쉑 분당점\\n성남 구미동\\n낭만파스타 미금역점\\n추천에서 제외\\nfin****\\n인증리뷰 37\\n팔로우\\n성남 야탑동\\n롤링파스타 야탑역점\\n성남 야탑동\\n뿅의전설 야탑 본점\\n성남 야탑동\\n닭연새\\n성남 야탑동\\n춘천황가닭갈비\\n추천에서 제외\\n프로필\\n토끼강아지\\n인증리뷰 36\\n팔로우\\n성남 정자동\\n찰리스버거\\n성남 정자동\\n샐러디 분당정자점\\n성남 정자동\\n예돈\\n성남 서현동\\n올데이스위츠\\n추천에서 제외\\n프로필\\n쏘쏘\\n인증리뷰 205\\n팔로우\\n성남 창곡동\\n페르카\\n성남 창곡동\\n김가네김밥 위례중앙로점\\n성남 창곡동\\n샐러디 위례점\\n성남 창곡동\\nC nergy\\n추천에서 제외\\n토토\\n인증리뷰 337\\n팔로우\\n성남 백현동\\n봄베이브로이 판교점\\n성남 서현동\\n매드포갈릭 분당서현점\\n성남 서현동\\n진우동\\n성남 백현동\\n마키노차야 판교점\\n추천에서 제외\\n프로필\\nJay\\n인증리뷰 1,008\\n팔로우\\n성남 서현동\\n한옥반점\\n성남 상대원동\\n도원\\n성남 서현동\\n이랑손만두\\n성남 서현동\\n55도커피로스터스\\n추천에서 제외\\nher****\\n인증리뷰 215\\n팔로우\\n성남 삼평동\\n놀부부대찌개 판교WCity점\\n성남 삼평동\\n알레그리아 판교브릿지타워점\\n성남 삼평동\\n려원쭈꾸미볶음\\n성남 삼평동\\n서호돈가스\\n추천에서 제외\\n프로필\\n김반희\\n인증리뷰 22\\n팔로우\\n성남 여수동\\n다원\\n성남 야탑동\\n푸라닭 분당야탑점\\n성남 야탑동\\n청년다방 야탑역점\\n성남 태평동\\n마시따아구 태평점\\n추천에서 제외\\n프로필\\nLia\\n인증리뷰 437\\n팔로우\\n성남 삼평동\\n비와별닭갈비 판교아브뉴프랑점\\n성남 금곡동\\n유치회관 분당직영점\\n성남 정자동\\n항아리보쌈분당정자점\\n성남 정자동\\n라라면가 정자점\\n추천에서 제외\\n유디\\n인증리뷰 851\\n팔로우\\n성남 신흥동\\n참맛깔곱창\\n성남 야탑동\\n수라예찬 야탑점\\n성남 창곡동\\n맛찬들왕소금구이 위례점\\n성남 창곡동\\n하나샤브샤브 위례점\\n추천에서 제외\\n아리꾸꾸\\n인증리뷰 37\\n팔로우\\n성남 서현동\\n필담면옥\\n성남 운중동\\n능라도본점\\n성남 운중동\\n안안\\n성남 삼평동\\n내니스\\n추천에서 제외\\n프로필\\ntthdi1126\\n인증리뷰 53\\n팔로우\\n성남 판교동\\n샤슬릭 판교본점\\n성남 상대원동\\n동막골\\n성남 야탑동\\n교대이층집 야탑점\\n성남 중앙동\\n오드리수제돈까스\\n추천에서 제외',\n",
       " '관심 지역 추가해 보세요!',\n",
       " '열심히 살자\\n인증리뷰 1648.8.일\\n팔로우\\n+\\n 2\\n구미동 최신\\n(마지막 사진이 메뉴랑 가격이에요!) 가께 우동이 제일 일반적인 것 같은데 개인적으로 맛이 좀 밋밋했\\n고요, 자루 우동은 차게 먹는 건데 입맛에는 안 맞았어요. 메멜 소바 좋아하는 어른들이 좋아할 맛 니꾸 \\n우동은 불고기가 들어가서 맛은 있는데 계속 먹으면 좀 느끼할 것 같아요. 야끼 우동(11000원)이 ...\\n야마다야\\n우동,소바경기도 성남시 분당구 구미동\\n좋아요\\n저장',\n",
       " '바닐라더블샷\\n인증리뷰 848.8.일\\n팔로우\\n구미동 최신\\n음식은 맛있어요 청결은 조금.. 식탁이 끈적거려요\\n일도씨닭갈비 분당점\\n일도씨닭갈비경기도 성남시 분당구 구미동\\n좋아요\\n저장',\n",
       " 'taracmin\\n인증리뷰 98.8.일\\n팔로우\\n구미동 최신\\n닭갈비 너무너무 맛있어요 여기 알고나서는 여기만 와요 ㅎㅎ 치즈닭갈비 고기가 너무너무 많아요~ 치\\n즈도 엄청 많이 주셔요 ㅎ.ㅎ 딱! 한가지 단점은 쌈채소를 시켜먹어야 한다는 점인데 ㅠㅠ 그거 감안해\\n도 여기가 최고예요❤️\\n일도씨닭갈비 분당점\\n일도씨닭갈비경기도 성남시 분당구 구미동\\n좋아요\\n저장',\n",
       " '뭉게구름\\n인증리뷰 8868.7.토\\n팔로우\\n+\\n 2\\n구미동 최신\\n우리동네에 이런 곳이 있다니!! 조용히 책보기 너무너무 좋아요~ 매장분위기도 음악도 책들도 너무 좋네요^^\\n테이블오브콘텐츠\\n북카페경기도 성남시 분당구 구미동\\n좋아요\\n저장',\n",
       " '프로필\\nㅇㅇㅇ\\n인증리뷰8.7.토\\n팔로우\\n구미동 최신\\n밑반찬 하나하나 다 맛있었고 찜이랑 전골도 재료 너무 신선하고 맛있었습니다! 사장님 친절하시고 설명도 잘해주셨어요\\n반가운수작\\n육류,고기요리경기도 성남시 분당구 구미동\\n좋아요\\n저장']"
      ]
     },
     "execution_count": 119,
     "metadata": {},
     "output_type": "execute_result"
    }
   ],
   "source": [
    "from selenium import webdriver\n",
    "import datetime\n",
    "\n",
    "driver = webdriver.Chrome('./chromedriver')\n",
    "driver.implicitly_wait(3)\n",
    "# url에 접근한다.\n",
    "driver.get('https://m.place.naver.com/my/feed')\n",
    "\n",
    "def doScrollDown(whileSeconds):\n",
    "    start = datetime.datetime.now()\n",
    "    end = start + datetime.timedelta(seconds=whileSeconds)\n",
    "    while True:\n",
    "        driver.execute_script('window.scrollTo(0, document.body.scrollHeight);')\n",
    "        time.sleep(1)\n",
    "        if datetime.datetime.now() > end:\n",
    "            break\n",
    "            \n",
    "# doScrollDown(60)\n",
    "\n",
    "html = driver.page_source\n",
    "soup = BeautifulSoup(html, 'html.parser')\n",
    "\n",
    "\n",
    "review_list = []\n",
    "for i in range(1,10):\n",
    "    review_list.append(driver.find_element_by_css_selector('#app-root > div._1sigkpy9my > div > ul > li:nth-child(' + str(i) + ')').text)\n",
    "\n",
    "review_list"
   ]
  },
  {
   "cell_type": "code",
   "execution_count": null,
   "id": "3e8b2793-db17-4d7d-b85c-2273c4db8120",
   "metadata": {},
   "outputs": [],
   "source": [
    "https://m.place.naver.com/my/5efe4d1470860aac071591a3/feed?v=1"
   ]
  },
  {
   "cell_type": "code",
   "execution_count": 124,
   "id": "ba82e271-2dd4-4baa-9545-d04eac6596ab",
   "metadata": {},
   "outputs": [
    {
     "name": "stdout",
     "output_type": "stream",
     "text": [
      "1\n"
     ]
    },
    {
     "ename": "IndexError",
     "evalue": "list index out of range",
     "output_type": "error",
     "traceback": [
      "\u001b[1;31m---------------------------------------------------------------------------\u001b[0m",
      "\u001b[1;31mIndexError\u001b[0m                                Traceback (most recent call last)",
      "\u001b[1;32m<ipython-input-124-383e3c3e9f0c>\u001b[0m in \u001b[0;36m<module>\u001b[1;34m\u001b[0m\n\u001b[0;32m      4\u001b[0m     \u001b[1;32mif\u001b[0m \u001b[0mi\u001b[0m \u001b[1;32mnot\u001b[0m \u001b[1;32min\u001b[0m \u001b[0ma\u001b[0m\u001b[1;33m:\u001b[0m\u001b[1;33m\u001b[0m\u001b[1;33m\u001b[0m\u001b[0m\n\u001b[0;32m      5\u001b[0m         \u001b[1;32mpass\u001b[0m\u001b[1;33m\u001b[0m\u001b[1;33m\u001b[0m\u001b[0m\n\u001b[1;32m----> 6\u001b[1;33m     \u001b[0mprint\u001b[0m\u001b[1;33m(\u001b[0m\u001b[0ma\u001b[0m\u001b[1;33m[\u001b[0m\u001b[0mi\u001b[0m\u001b[1;33m]\u001b[0m\u001b[1;33m)\u001b[0m\u001b[1;33m\u001b[0m\u001b[1;33m\u001b[0m\u001b[0m\n\u001b[0m",
      "\u001b[1;31mIndexError\u001b[0m: list index out of range"
     ]
    }
   ],
   "source": [
    "a=[1,2,4]\n",
    "\n",
    "for i in (0,5):\n",
    "    if i not in a:\n",
    "        pass\n",
    "    print(a[i])"
   ]
  },
  {
   "cell_type": "code",
   "execution_count": null,
   "id": "96c43e54-e2f9-4a66-8c7a-fb002c15bbd8",
   "metadata": {},
   "outputs": [],
   "source": []
  }
 ],
 "metadata": {
  "kernelspec": {
   "display_name": "Python Multi",
   "language": "python",
   "name": "multi"
  },
  "language_info": {
   "codemirror_mode": {
    "name": "ipython",
    "version": 3
   },
   "file_extension": ".py",
   "mimetype": "text/x-python",
   "name": "python",
   "nbconvert_exporter": "python",
   "pygments_lexer": "ipython3",
   "version": "3.7.6"
  }
 },
 "nbformat": 4,
 "nbformat_minor": 5
}
